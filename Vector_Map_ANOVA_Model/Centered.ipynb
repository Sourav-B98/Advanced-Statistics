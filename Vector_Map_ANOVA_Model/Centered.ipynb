{
 "cells": [
  {
   "cell_type": "code",
   "execution_count": 74,
   "metadata": {},
   "outputs": [],
   "source": [
    "import numpy as np\n",
    "import matplotlib.pyplot as plt\n",
    "import cv2\n",
    "import pandas as pd\n",
    "%matplotlib inline"
   ]
  },
  {
   "cell_type": "code",
   "execution_count": 75,
   "metadata": {},
   "outputs": [],
   "source": [
    "data = pd.read_excel(\"Data.xlsx\")\n",
    "res = pd.read_csv(\"resolution.csv\")"
   ]
  },
  {
   "cell_type": "code",
   "execution_count": 76,
   "metadata": {},
   "outputs": [],
   "source": [
    "def center(data,x_res,y_res):\n",
    "    X_New = []\n",
    "    Y_New = []\n",
    "    i = 0\n",
    "    for pic in data[\"pic\"].unique():\n",
    "        x = data[data[\"pic\"] == str(pic)][\"X\"]\n",
    "        y = data[data[\"pic\"] == str(pic)][\"Y\"]\n",
    "        x_new = list(x.values - x_res[i]//2)\n",
    "        y_new = list(y_res[i]//2 - y.values)\n",
    "        X_New.extend(x_new)\n",
    "        Y_New.extend(y_new)\n",
    "        #print(len(X_New),len(Y_New))\n",
    "        i += 1\n",
    "    data[\"X_New\"] = X_New\n",
    "    data[\"Y_New\"] = Y_New\n",
    "        \n",
    "    return data"
   ]
  },
  {
   "cell_type": "code",
   "execution_count": 77,
   "metadata": {},
   "outputs": [],
   "source": [
    "x = res.iloc[:,1]\n",
    "y = res.iloc[:,2]\n",
    "d = data.copy()\n",
    "centered_data = center(d,x,y)\n",
    "centered_data = centered_data.to_csv(\"centered_data.csv\")"
   ]
  },
  {
   "cell_type": "code",
   "execution_count": null,
   "metadata": {},
   "outputs": [],
   "source": []
  }
 ],
 "metadata": {
  "kernelspec": {
   "display_name": "Python 3",
   "language": "python",
   "name": "python3"
  },
  "language_info": {
   "codemirror_mode": {
    "name": "ipython",
    "version": 3
   },
   "file_extension": ".py",
   "mimetype": "text/x-python",
   "name": "python",
   "nbconvert_exporter": "python",
   "pygments_lexer": "ipython3",
   "version": "3.8.10"
  }
 },
 "nbformat": 4,
 "nbformat_minor": 4
}
